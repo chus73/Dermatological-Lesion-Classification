{
  "nbformat": 4,
  "nbformat_minor": 0,
  "metadata": {
    "colab": {
      "provenance": [],
      "mount_file_id": "1fPWfOyrmhDcLre3U5hJYomnV0CI7yB3g",
      "authorship_tag": "ABX9TyODoFygmgvFp8YtK39BuppV",
      "include_colab_link": true
    },
    "kernelspec": {
      "name": "python3",
      "display_name": "Python 3"
    },
    "language_info": {
      "name": "python"
    }
  },
  "cells": [
    {
      "cell_type": "markdown",
      "metadata": {
        "id": "view-in-github",
        "colab_type": "text"
      },
      "source": [
        "<a href=\"https://colab.research.google.com/github/chus73/Dermatological-Lesion-Classification/blob/main/DermatologicalLesionClassification.ipynb\" target=\"_parent\"><img src=\"https://colab.research.google.com/assets/colab-badge.svg\" alt=\"Open In Colab\"/></a>"
      ]
    },
    {
      "cell_type": "code",
      "execution_count": 1,
      "metadata": {
        "colab": {
          "base_uri": "https://localhost:8080/"
        },
        "id": "8zCeEVhxy2Bn",
        "outputId": "44960ffe-fb4c-4575-cb91-e18f896220ce"
      },
      "outputs": [
        {
          "output_type": "stream",
          "name": "stdout",
          "text": [
            "/bin/bash: line 1: nvidia-smi: command not found\n"
          ]
        }
      ],
      "source": [
        "# Testing GRU info\n",
        "gpu_info = !nvidia-smi\n",
        "gpu_info = '\\n'.join(gpu_info)\n",
        "if gpu_info.find('failed') >= 0:\n",
        "  print('Not connected to a GPU')\n",
        "else:\n",
        "  print(gpu_info)"
      ]
    },
    {
      "cell_type": "code",
      "source": [
        "# library loading\n",
        "\n",
        "import numpy as np\n",
        "import pandas as pd\n",
        "#import random\n",
        "#import matplotlib.pyplot as plt\n",
        "#import _pickle as pickle\n",
        "import os\n",
        "from tqdm import tqdm\n",
        "#import progressbar\n",
        "#import time\n",
        "#from matplotlib import image\n",
        "from PIL import Image\n",
        "#from numpy import load, save\n",
        "\n",
        "#import keras\n",
        "#from keras.models import Sequential, save, load_model\n",
        "#from keras import layers\n",
        "#from tqdm.keras import TqdmCallback\n",
        "#from keras.utils.layer_utils import count_params\n",
        "#from keras.callbacks import EarlyStopping\n",
        "#from tensorflow.keras.preprocessing.image import ImageDataGenerator\n",
        "#from tensorflow.keras.applications import EfficientNetB0\n",
        "#vfrom keras.layers.normalization.batch_normalization_v1 import BatchNormalization\n",
        "\n",
        "#! pip install tensorflow-addons\n",
        "#import tensorflow_addons as tfa\n",
        "#import tensorflow as tf"
      ],
      "metadata": {
        "id": "yP8Z9UCz_uHT"
      },
      "execution_count": 42,
      "outputs": []
    },
    {
      "cell_type": "code",
      "source": [
        "# save df to csv file\n",
        "\n",
        "def save_df_to_csv(df, file_name):\n",
        "    '''\n",
        "    Save a pandas dataframe to disc.\n",
        "    Input:\n",
        "        - df: Pandas dataframe\n",
        "        - file_name: file name with extension file. String type\n",
        "    Output:\n",
        "        - 0: successfully\n",
        "        - 1: Otherwise\n",
        "    '''\n",
        "    if df.to_csv(file_name, encoding='utf-8', index=False):\n",
        "        return(0)\n",
        "    else:\n",
        "        return(1)"
      ],
      "metadata": {
        "id": "jjTVU5I3DXUF"
      },
      "execution_count": 3,
      "outputs": []
    },
    {
      "cell_type": "code",
      "source": [
        "# Load csv file and store into df\n",
        "file_name = 'model_comparation.csv'\n",
        "\n",
        "def load_csv_to_df(file_name):\n",
        "    '''\n",
        "    file upload from disk.\n",
        "    Input:\n",
        "        - file_name: File name with extension file.\n",
        "    Output:\n",
        "        - A Pandas dataframe or a call to create a new dataframe\n",
        "    '''\n",
        "    try:\n",
        "        df =  pd.read_csv(file_name, encoding='utf-8', index_col=0)\n",
        "        #df =  pd.read_csv(file_name, encoding='utf-8')\n",
        "        return(df)\n",
        "    except FileNotFoundError:\n",
        "        print('No File was found')\n",
        "        return(create_tbl_results())"
      ],
      "metadata": {
        "id": "pSfD6WQqDYGT"
      },
      "execution_count": 4,
      "outputs": []
    },
    {
      "cell_type": "code",
      "source": [
        "def files_list(path):\n",
        "    df = []\n",
        "    initial_count = 0\n",
        "    for file in os.listdir(path):\n",
        "        if os.path.isfile(os.path.join(path, file)):\n",
        "            initial_count += 1\n",
        "            df.append(file)\n",
        "    #print(f'# files: {initial_count}')\n",
        "    #print(f'# ficheros por partición: {int(initial_count/10)}')\n",
        "    return (initial_count, df)"
      ],
      "metadata": {
        "id": "Dj44d-6efm0D"
      },
      "execution_count": 5,
      "outputs": []
    },
    {
      "cell_type": "code",
      "source": [
        "def return_picture_name(file_name):\n",
        "    name, ext = file_name.split('.')\n",
        "    return(name)\n",
        ""
      ],
      "metadata": {
        "id": "cRaaPbuzpfoo"
      },
      "execution_count": 6,
      "outputs": []
    },
    {
      "cell_type": "code",
      "source": [
        "# Looking for the correct label\n",
        "# case stament has been introduce on 3.10 python version, but we don't use\n",
        "# for compatibility reason.\n",
        "\n",
        "def return_label_from_image(images_list_df, picture_name):\n",
        "    rec = images_list_df.loc[picture_name]\n",
        "\n",
        "    label = ''\n",
        "    if rec['MEL'] == 1: label = ('MEL')\n",
        "    elif rec['NV'] == 1: label = ('NV')\n",
        "    elif rec['BCC'] == 1: label = ('BCC')\n",
        "    elif rec['AK'] == 1: label = ('AK')\n",
        "    elif rec['BKL'] == 1: label = ('BKL')\n",
        "    elif rec['DF'] == 1: label = ('DF')\n",
        "    elif rec['VASC'] == 1: label = ('VASC')\n",
        "    elif rec['SCC'] == 1: label = ('SCC')\n",
        "    else: label = ('UNK')\n",
        "\n",
        "    return(label)"
      ],
      "metadata": {
        "id": "7FxOUTBYfo8a"
      },
      "execution_count": 7,
      "outputs": []
    },
    {
      "cell_type": "code",
      "source": [],
      "metadata": {
        "id": "LTsH-O5kBjgq"
      },
      "execution_count": 5,
      "outputs": []
    },
    {
      "cell_type": "code",
      "source": [
        "'''\n",
        "\n",
        "# Extract the picture file name from file\n",
        "label_file_path = '/content/drive/MyDrive/Colab Notebooks/Master UOC/TFM/Dermatological lesion classification/Data/ISIC_2019_Training_GroundTruth.csv'\n",
        "train_file_path = '/content/drive/MyDrive/Colab Notebooks/Master UOC/TFM/Dermatological lesion classification/Data/Train'\n",
        "images_list_df = load_csv_to_df(label_file_path)\n",
        "#picture_label = return_label_from_image(images_list_df, 'ISIC_0073248')\n",
        "\n",
        "partition = 'P0'\n",
        "\n",
        "# Extract the picture names from the partition folder\n",
        "n, df = files_list(os.path.join(train_file_path, partition))\n",
        "print(f'Picture number in partition {partition}: {n} ')\n",
        "\n",
        "# Making the y_train\n",
        "y_train = []\n",
        "for name in df:\n",
        "    y_train.append(\n",
        "        return_label_from_image(images_list_df,\n",
        "                                return_picture_name(name)\n",
        "                                )\n",
        "    )\n",
        "print(y_train)\n",
        "'''"
      ],
      "metadata": {
        "colab": {
          "base_uri": "https://localhost:8080/"
        },
        "id": "B4gCZ1rdCj6r",
        "outputId": "16e08893-80f9-46c7-aef8-43dcc40f8275"
      },
      "execution_count": 9,
      "outputs": [
        {
          "output_type": "stream",
          "name": "stdout",
          "text": [
            "Picture number in partition P0: 2533 \n",
            "['NV', 'NV', 'MEL', 'BKL', 'NV', 'NV', 'MEL', 'NV', 'NV', 'BKL', 'BKL', 'BKL', 'BKL', 'BKL', 'BKL', 'BKL', 'NV', 'BKL', 'BKL', 'NV', 'NV', 'NV', 'BKL', 'NV', 'NV', 'BKL', 'NV', 'NV', 'BKL', 'NV', 'NV', 'NV', 'BKL', 'NV', 'NV', 'NV', 'BKL', 'NV', 'NV', 'NV', 'NV', 'NV', 'NV', 'NV', 'MEL', 'BKL', 'NV', 'NV', 'BKL', 'NV', 'NV', 'BKL', 'NV', 'BKL', 'BKL', 'NV', 'MEL', 'BKL', 'NV', 'NV', 'BKL', 'NV', 'NV', 'MEL', 'NV', 'BKL', 'MEL', 'NV', 'NV', 'MEL', 'NV', 'NV', 'NV', 'NV', 'NV', 'BKL', 'NV', 'NV', 'NV', 'NV', 'BKL', 'BKL', 'BKL', 'BKL', 'NV', 'BKL', 'NV', 'NV', 'BKL', 'NV', 'NV', 'BKL', 'NV', 'BKL', 'NV', 'NV', 'BKL', 'NV', 'NV', 'NV', 'NV', 'NV', 'BKL', 'NV', 'NV', 'BKL', 'NV', 'NV', 'NV', 'NV', 'NV', 'NV', 'BKL', 'NV', 'NV', 'BKL', 'BKL', 'MEL', 'BKL', 'NV', 'NV', 'MEL', 'NV', 'NV', 'BKL', 'BKL', 'NV', 'MEL', 'NV', 'BKL', 'BKL', 'NV', 'BKL', 'NV', 'NV', 'NV', 'BKL', 'MEL', 'BKL', 'NV', 'BKL', 'NV', 'NV', 'NV', 'NV', 'NV', 'NV', 'NV', 'BKL', 'NV', 'NV', 'NV', 'NV', 'NV', 'NV', 'NV', 'NV', 'NV', 'BKL', 'NV', 'BKL', 'BKL', 'NV', 'BKL', 'BKL', 'BKL', 'NV', 'NV', 'BKL', 'NV', 'BKL', 'NV', 'BKL', 'BKL', 'NV', 'NV', 'NV', 'BKL', 'NV', 'NV', 'MEL', 'NV', 'NV', 'NV', 'NV', 'NV', 'NV', 'NV', 'NV', 'NV', 'NV', 'BKL', 'NV', 'NV', 'MEL', 'NV', 'BKL', 'BKL', 'MEL', 'NV', 'NV', 'NV', 'NV', 'MEL', 'BKL', 'BKL', 'BKL', 'NV', 'NV', 'MEL', 'NV', 'BKL', 'NV', 'NV', 'NV', 'NV', 'NV', 'NV', 'NV', 'NV', 'NV', 'NV', 'NV', 'NV', 'BKL', 'BKL', 'NV', 'NV', 'NV', 'NV', 'NV', 'BKL', 'BKL', 'BKL', 'NV', 'NV', 'MEL', 'NV', 'NV', 'NV', 'NV', 'NV', 'NV', 'MEL', 'NV', 'NV', 'NV', 'NV', 'MEL', 'NV', 'MEL', 'NV', 'NV', 'BKL', 'BKL', 'BKL', 'NV', 'BKL', 'NV', 'BKL', 'NV', 'BKL', 'NV', 'NV', 'BKL', 'MEL', 'NV', 'MEL', 'NV', 'NV', 'BKL', 'BKL', 'NV', 'NV', 'NV', 'MEL', 'MEL', 'NV', 'MEL', 'NV', 'BKL', 'NV', 'NV', 'MEL', 'NV', 'NV', 'BKL', 'NV', 'MEL', 'BKL', 'NV', 'BKL', 'NV', 'NV', 'MEL', 'NV', 'NV', 'NV', 'NV', 'NV', 'NV', 'NV', 'NV', 'MEL', 'NV', 'MEL', 'NV', 'MEL', 'NV', 'MEL', 'NV', 'BKL', 'BKL', 'NV', 'MEL', 'NV', 'NV', 'MEL', 'MEL', 'NV', 'MEL', 'NV', 'BKL', 'NV', 'BKL', 'NV', 'NV', 'MEL', 'NV', 'MEL', 'NV', 'NV', 'MEL', 'NV', 'BKL', 'MEL', 'MEL', 'NV', 'NV', 'MEL', 'NV', 'MEL', 'NV', 'BKL', 'MEL', 'NV', 'MEL', 'NV', 'MEL', 'NV', 'NV', 'MEL', 'MEL', 'MEL', 'NV', 'MEL', 'NV', 'MEL', 'MEL', 'BKL', 'NV', 'MEL', 'NV', 'NV', 'MEL', 'MEL', 'BKL', 'MEL', 'MEL', 'MEL', 'NV', 'NV', 'BKL', 'NV', 'BKL', 'NV', 'BKL', 'MEL', 'NV', 'NV', 'MEL', 'NV', 'MEL', 'NV', 'MEL', 'NV', 'BKL', 'MEL', 'NV', 'BKL', 'MEL', 'BKL', 'BKL', 'NV', 'MEL', 'NV', 'MEL', 'BKL', 'NV', 'MEL', 'MEL', 'BKL', 'BKL', 'BKL', 'MEL', 'BKL', 'NV', 'BKL', 'BKL', 'BKL', 'NV', 'MEL', 'NV', 'NV', 'NV', 'BKL', 'NV', 'BKL', 'MEL', 'MEL', 'BKL', 'NV', 'NV', 'MEL', 'NV', 'NV', 'BKL', 'MEL', 'NV', 'NV', 'MEL', 'BKL', 'NV', 'NV', 'NV', 'NV', 'MEL', 'NV', 'NV', 'NV', 'NV', 'NV', 'NV', 'NV', 'NV', 'NV', 'MEL', 'MEL', 'BKL', 'MEL', 'NV', 'MEL', 'NV', 'NV', 'BKL', 'NV', 'NV', 'MEL', 'MEL', 'MEL', 'MEL', 'MEL', 'NV', 'MEL', 'NV', 'MEL', 'NV', 'MEL', 'NV', 'MEL', 'NV', 'NV', 'BKL', 'NV', 'NV', 'NV', 'NV', 'BKL', 'MEL', 'MEL', 'NV', 'MEL', 'BKL', 'MEL', 'NV', 'BKL', 'NV', 'MEL', 'NV', 'MEL', 'NV', 'NV', 'NV', 'NV', 'MEL', 'NV', 'BKL', 'BKL', 'NV', 'BKL', 'MEL', 'BKL', 'MEL', 'NV', 'MEL', 'BKL', 'NV', 'MEL', 'MEL', 'NV', 'NV', 'NV', 'BKL', 'NV', 'NV', 'NV', 'NV', 'MEL', 'BKL', 'BKL', 'NV', 'NV', 'MEL', 'MEL', 'BKL', 'MEL', 'BKL', 'NV', 'NV', 'MEL', 'NV', 'MEL', 'BKL', 'MEL', 'MEL', 'BKL', 'BKL', 'NV', 'BKL', 'MEL', 'NV', 'MEL', 'NV', 'NV', 'MEL', 'BKL', 'MEL', 'BKL', 'MEL', 'BKL', 'BKL', 'MEL', 'MEL', 'MEL', 'MEL', 'BKL', 'NV', 'MEL', 'BKL', 'MEL', 'MEL', 'MEL', 'NV', 'MEL', 'MEL', 'NV', 'NV', 'NV', 'BKL', 'MEL', 'NV', 'NV', 'NV', 'MEL', 'NV', 'MEL', 'NV', 'NV', 'NV', 'MEL', 'MEL', 'MEL', 'MEL', 'MEL', 'MEL', 'MEL', 'BKL', 'NV', 'MEL', 'NV', 'BKL', 'MEL', 'MEL', 'NV', 'NV', 'MEL', 'NV', 'BKL', 'NV', 'MEL', 'MEL', 'MEL', 'BKL', 'NV', 'MEL', 'NV', 'NV', 'MEL', 'NV', 'MEL', 'MEL', 'MEL', 'BKL', 'MEL', 'MEL', 'NV', 'MEL', 'NV', 'MEL', 'MEL', 'NV', 'NV', 'NV', 'NV', 'BKL', 'BKL', 'MEL', 'NV', 'MEL', 'MEL', 'BKL', 'NV', 'BKL', 'MEL', 'MEL', 'MEL', 'NV', 'BKL', 'BKL', 'MEL', 'MEL', 'BKL', 'MEL', 'MEL', 'BKL', 'MEL', 'MEL', 'MEL', 'NV', 'MEL', 'NV', 'MEL', 'MEL', 'MEL', 'BKL', 'MEL', 'NV', 'NV', 'MEL', 'MEL', 'MEL', 'MEL', 'NV', 'MEL', 'MEL', 'MEL', 'NV', 'MEL', 'MEL', 'MEL', 'BKL', 'BKL', 'NV', 'MEL', 'NV', 'MEL', 'BKL', 'MEL', 'NV', 'BKL', 'NV', 'BKL', 'MEL', 'NV', 'BKL', 'BKL', 'BKL', 'MEL', 'BKL', 'MEL', 'MEL', 'NV', 'NV', 'BKL', 'BKL', 'NV', 'MEL', 'MEL', 'MEL', 'BKL', 'BKL', 'MEL', 'MEL', 'MEL', 'NV', 'BKL', 'NV', 'NV', 'MEL', 'MEL', 'NV', 'NV', 'NV', 'MEL', 'NV', 'NV', 'NV', 'MEL', 'BKL', 'MEL', 'BKL', 'NV', 'MEL', 'MEL', 'BKL', 'NV', 'NV', 'NV', 'MEL', 'BKL', 'MEL', 'MEL', 'BKL', 'BKL', 'MEL', 'MEL', 'BKL', 'MEL', 'MEL', 'BKL', 'MEL', 'MEL', 'BKL', 'MEL', 'MEL', 'NV', 'BKL', 'BKL', 'BKL', 'BKL', 'MEL', 'BKL', 'BKL', 'BKL', 'BKL', 'BKL', 'BKL', 'BKL', 'BKL', 'BKL', 'BKL', 'BKL', 'BKL', 'BKL', 'BKL', 'BKL', 'BKL', 'BKL', 'BKL', 'BKL', 'BKL', 'BKL', 'BKL', 'BKL', 'BKL', 'BKL', 'BKL', 'BKL', 'BKL', 'BKL', 'BKL', 'BKL', 'BKL', 'BKL', 'BKL', 'BKL', 'BKL', 'BKL', 'BKL', 'BKL', 'BKL', 'BKL', 'BKL', 'BKL', 'BKL', 'BKL', 'BKL', 'BKL', 'BKL', 'BKL', 'BKL', 'BKL', 'BKL', 'BKL', 'BKL', 'BKL', 'BKL', 'BKL', 'BKL', 'BKL', 'BKL', 'BKL', 'BKL', 'BKL', 'BKL', 'BKL', 'BKL', 'BKL', 'BKL', 'BKL', 'BKL', 'BKL', 'BKL', 'BKL', 'BKL', 'BKL', 'BKL', 'BKL', 'NV', 'MEL', 'NV', 'NV', 'NV', 'MEL', 'NV', 'NV', 'NV', 'NV', 'MEL', 'NV', 'NV', 'NV', 'NV', 'NV', 'NV', 'BKL', 'NV', 'NV', 'NV', 'NV', 'BKL', 'MEL', 'NV', 'NV', 'NV', 'BKL', 'NV', 'NV', 'NV', 'NV', 'MEL', 'BKL', 'NV', 'NV', 'BKL', 'NV', 'NV', 'NV', 'NV', 'MEL', 'NV', 'NV', 'MEL', 'NV', 'NV', 'MEL', 'NV', 'NV', 'NV', 'NV', 'MEL', 'NV', 'NV', 'MEL', 'NV', 'NV', 'NV', 'NV', 'NV', 'NV', 'NV', 'NV', 'NV', 'NV', 'NV', 'NV', 'NV', 'NV', 'NV', 'BKL', 'NV', 'NV', 'NV', 'NV', 'NV', 'MEL', 'MEL', 'NV', 'NV', 'BKL', 'NV', 'NV', 'NV', 'NV', 'NV', 'MEL', 'NV', 'NV', 'NV', 'NV', 'MEL', 'NV', 'BKL', 'BKL', 'NV', 'MEL', 'NV', 'NV', 'NV', 'NV', 'BKL', 'NV', 'NV', 'NV', 'NV', 'NV', 'NV', 'BKL', 'NV', 'NV', 'NV', 'MEL', 'BKL', 'NV', 'NV', 'MEL', 'MEL', 'NV', 'BKL', 'MEL', 'NV', 'NV', 'NV', 'NV', 'MEL', 'NV', 'NV', 'NV', 'NV', 'NV', 'NV', 'NV', 'NV', 'NV', 'NV', 'NV', 'NV', 'MEL', 'NV', 'NV', 'NV', 'NV', 'NV', 'NV', 'MEL', 'NV', 'MEL', 'MEL', 'NV', 'MEL', 'MEL', 'NV', 'MEL', 'NV', 'NV', 'NV', 'NV', 'MEL', 'NV', 'NV', 'NV', 'NV', 'NV', 'MEL', 'MEL', 'MEL', 'NV', 'NV', 'NV', 'NV', 'NV', 'NV', 'NV', 'NV', 'NV', 'NV', 'NV', 'NV', 'NV', 'NV', 'NV', 'NV', 'NV', 'NV', 'NV', 'NV', 'NV', 'NV', 'NV', 'NV', 'NV', 'NV', 'NV', 'NV', 'NV', 'NV', 'NV', 'NV', 'NV', 'NV', 'NV', 'NV', 'NV', 'NV', 'NV', 'NV', 'NV', 'NV', 'NV', 'NV', 'NV', 'NV', 'NV', 'NV', 'NV', 'NV', 'NV', 'NV', 'NV', 'NV', 'NV', 'NV', 'NV', 'NV', 'NV', 'NV', 'NV', 'NV', 'NV', 'NV', 'NV', 'NV', 'NV', 'NV', 'NV', 'NV', 'NV', 'NV', 'NV', 'NV', 'NV', 'NV', 'NV', 'NV', 'NV', 'NV', 'NV', 'NV', 'NV', 'NV', 'NV', 'NV', 'NV', 'NV', 'NV', 'NV', 'NV', 'NV', 'NV', 'NV', 'NV', 'NV', 'NV', 'NV', 'NV', 'NV', 'NV', 'NV', 'NV', 'NV', 'NV', 'NV', 'NV', 'NV', 'NV', 'NV', 'NV', 'NV', 'NV', 'NV', 'NV', 'NV', 'NV', 'NV', 'NV', 'NV', 'MEL', 'NV', 'NV', 'NV', 'NV', 'NV', 'NV', 'NV', 'NV', 'NV', 'NV', 'NV', 'NV', 'NV', 'NV', 'NV', 'NV', 'NV', 'NV', 'NV', 'NV', 'NV', 'NV', 'NV', 'NV', 'NV', 'NV', 'NV', 'NV', 'NV', 'NV', 'NV', 'NV', 'NV', 'NV', 'NV', 'MEL', 'NV', 'NV', 'NV', 'NV', 'MEL', 'NV', 'NV', 'NV', 'MEL', 'MEL', 'NV', 'NV', 'NV', 'NV', 'NV', 'NV', 'NV', 'NV', 'NV', 'NV', 'NV', 'NV', 'MEL', 'NV', 'NV', 'NV', 'NV', 'MEL', 'NV', 'NV', 'NV', 'NV', 'NV', 'MEL', 'NV', 'NV', 'NV', 'NV', 'NV', 'NV', 'NV', 'NV', 'NV', 'MEL', 'NV', 'NV', 'NV', 'NV', 'NV', 'NV', 'NV', 'NV', 'NV', 'NV', 'NV', 'NV', 'NV', 'NV', 'NV', 'NV', 'MEL', 'NV', 'NV', 'NV', 'NV', 'NV', 'NV', 'NV', 'NV', 'NV', 'NV', 'NV', 'NV', 'NV', 'NV', 'MEL', 'NV', 'MEL', 'NV', 'NV', 'NV', 'NV', 'NV', 'NV', 'NV', 'MEL', 'NV', 'NV', 'NV', 'MEL', 'NV', 'NV', 'MEL', 'NV', 'NV', 'NV', 'NV', 'MEL', 'MEL', 'NV', 'NV', 'MEL', 'NV', 'NV', 'NV', 'MEL', 'MEL', 'MEL', 'NV', 'MEL', 'MEL', 'NV', 'NV', 'NV', 'NV', 'NV', 'NV', 'NV', 'NV', 'NV', 'NV', 'NV', 'NV', 'NV', 'NV', 'NV', 'NV', 'NV', 'MEL', 'NV', 'NV', 'NV', 'NV', 'NV', 'NV', 'NV', 'NV', 'NV', 'NV', 'NV', 'MEL', 'NV', 'NV', 'NV', 'NV', 'NV', 'NV', 'NV', 'NV', 'MEL', 'NV', 'MEL', 'NV', 'NV', 'MEL', 'NV', 'MEL', 'NV', 'NV', 'NV', 'NV', 'MEL', 'NV', 'MEL', 'NV', 'NV', 'NV', 'NV', 'NV', 'NV', 'NV', 'NV', 'MEL', 'NV', 'MEL', 'NV', 'NV', 'NV', 'NV', 'MEL', 'NV', 'NV', 'NV', 'NV', 'NV', 'NV', 'NV', 'NV', 'NV', 'NV', 'NV', 'NV', 'NV', 'NV', 'NV', 'NV', 'MEL', 'NV', 'MEL', 'NV', 'NV', 'NV', 'NV', 'NV', 'NV', 'NV', 'MEL', 'NV', 'NV', 'MEL', 'NV', 'NV', 'NV', 'NV', 'NV', 'MEL', 'NV', 'NV', 'NV', 'NV', 'MEL', 'MEL', 'NV', 'NV', 'NV', 'NV', 'NV', 'MEL', 'NV', 'NV', 'NV', 'NV', 'NV', 'NV', 'NV', 'MEL', 'NV', 'NV', 'MEL', 'NV', 'NV', 'MEL', 'NV', 'NV', 'MEL', 'NV', 'NV', 'NV', 'MEL', 'MEL', 'NV', 'NV', 'NV', 'NV', 'MEL', 'NV', 'NV', 'NV', 'MEL', 'NV', 'NV', 'MEL', 'NV', 'NV', 'NV', 'NV', 'NV', 'NV', 'NV', 'NV', 'NV', 'NV', 'MEL', 'NV', 'MEL', 'NV', 'NV', 'NV', 'MEL', 'NV', 'NV', 'MEL', 'NV', 'NV', 'NV', 'NV', 'NV', 'NV', 'NV', 'NV', 'MEL', 'NV', 'NV', 'NV', 'NV', 'NV', 'NV', 'NV', 'NV', 'NV', 'MEL', 'NV', 'NV', 'NV', 'NV', 'MEL', 'NV', 'NV', 'NV', 'NV', 'NV', 'NV', 'NV', 'NV', 'NV', 'NV', 'NV', 'NV', 'NV', 'NV', 'NV', 'NV', 'BKL', 'NV', 'NV', 'NV', 'NV', 'NV', 'NV', 'NV', 'MEL', 'NV', 'NV', 'NV', 'NV', 'NV', 'MEL', 'NV', 'NV', 'NV', 'NV', 'NV', 'NV', 'NV', 'NV', 'NV', 'NV', 'MEL', 'NV', 'NV', 'NV', 'NV', 'NV', 'MEL', 'NV', 'NV', 'NV', 'NV', 'NV', 'MEL', 'NV', 'MEL', 'NV', 'NV', 'MEL', 'NV', 'NV', 'NV', 'MEL', 'NV', 'NV', 'NV', 'NV', 'NV', 'MEL', 'NV', 'NV', 'NV', 'NV', 'NV', 'NV', 'NV', 'NV', 'NV', 'MEL', 'NV', 'NV', 'NV', 'NV', 'NV', 'MEL', 'NV', 'NV', 'NV', 'NV', 'NV', 'NV', 'NV', 'NV', 'MEL', 'NV', 'NV', 'MEL', 'NV', 'NV', 'NV', 'MEL', 'NV', 'NV', 'NV', 'NV', 'MEL', 'MEL', 'NV', 'NV', 'NV', 'MEL', 'MEL', 'NV', 'NV', 'NV', 'NV', 'NV', 'MEL', 'NV', 'NV', 'NV', 'MEL', 'NV', 'MEL', 'NV', 'NV', 'MEL', 'MEL', 'NV', 'MEL', 'MEL', 'NV', 'MEL', 'NV', 'NV', 'MEL', 'NV', 'NV', 'MEL', 'MEL', 'NV', 'NV', 'MEL', 'NV', 'MEL', 'NV', 'NV', 'MEL', 'NV', 'MEL', 'NV', 'NV', 'NV', 'NV', 'NV', 'NV', 'NV', 'NV', 'NV', 'NV', 'NV', 'NV', 'NV', 'NV', 'NV', 'NV', 'NV', 'NV', 'NV', 'NV', 'NV', 'MEL', 'NV', 'NV', 'NV', 'NV', 'NV', 'NV', 'NV', 'NV', 'NV', 'NV', 'NV', 'MEL', 'NV', 'MEL', 'NV', 'NV', 'NV', 'NV', 'NV', 'NV', 'NV', 'MEL', 'NV', 'NV', 'NV', 'NV', 'NV', 'NV', 'NV', 'NV', 'MEL', 'MEL', 'NV', 'NV', 'MEL', 'MEL', 'NV', 'NV', 'NV', 'NV', 'MEL', 'NV', 'MEL', 'NV', 'NV', 'NV', 'NV', 'NV', 'MEL', 'NV', 'NV', 'MEL', 'NV', 'NV', 'MEL', 'NV', 'NV', 'NV', 'NV', 'NV', 'BKL', 'NV', 'NV', 'NV', 'NV', 'NV', 'BKL', 'NV', 'NV', 'NV', 'NV', 'NV', 'NV', 'NV', 'MEL', 'MEL', 'NV', 'BKL', 'NV', 'BKL', 'NV', 'NV', 'NV', 'NV', 'MEL', 'NV', 'BKL', 'BKL', 'BKL', 'NV', 'NV', 'NV', 'NV', 'NV', 'NV', 'NV', 'BKL', 'MEL', 'NV', 'NV', 'NV', 'NV', 'NV', 'NV', 'BKL', 'NV', 'BKL', 'NV', 'MEL', 'BKL', 'NV', 'BKL', 'NV', 'NV', 'BKL', 'NV', 'BKL', 'NV', 'BKL', 'BKL', 'NV', 'BKL', 'BKL', 'NV', 'NV', 'MEL', 'NV', 'NV', 'NV', 'NV', 'BKL', 'NV', 'NV', 'NV', 'NV', 'NV', 'NV', 'NV', 'BKL', 'NV', 'NV', 'NV', 'BKL', 'NV', 'MEL', 'NV', 'BKL', 'BKL', 'BKL', 'BKL', 'BKL', 'NV', 'NV', 'BKL', 'BKL', 'NV', 'BKL', 'NV', 'BKL', 'BKL', 'NV', 'BKL', 'BKL', 'NV', 'BKL', 'NV', 'NV', 'NV', 'NV', 'BKL', 'NV', 'BKL', 'NV', 'NV', 'MEL', 'BKL', 'MEL', 'MEL', 'NV', 'NV', 'NV', 'NV', 'BKL', 'BKL', 'NV', 'NV', 'NV', 'NV', 'BKL', 'NV', 'NV', 'NV', 'NV', 'NV', 'NV', 'BKL', 'BKL', 'NV', 'NV', 'NV', 'NV', 'NV', 'BKL', 'MEL', 'NV', 'BKL', 'NV', 'NV', 'MEL', 'BKL', 'BKL', 'BKL', 'NV', 'NV', 'BKL', 'BKL', 'BKL', 'MEL', 'NV', 'BKL', 'NV', 'BKL', 'NV', 'MEL', 'BKL', 'BKL', 'MEL', 'MEL', 'BKL', 'BKL', 'NV', 'NV', 'BKL', 'NV', 'BKL', 'NV', 'BKL', 'MEL', 'MEL', 'NV', 'BKL', 'BKL', 'BKL', 'BKL', 'MEL', 'MEL', 'NV', 'BKL', 'BKL', 'BKL', 'NV', 'NV', 'NV', 'NV', 'NV', 'BKL', 'BKL', 'NV', 'BKL', 'BKL', 'NV', 'NV', 'BKL', 'BKL', 'NV', 'MEL', 'BKL', 'NV', 'BKL', 'BKL', 'NV', 'NV', 'BKL', 'NV', 'NV', 'BKL', 'NV', 'NV', 'NV', 'NV', 'BKL', 'NV', 'NV', 'NV', 'BKL', 'BKL', 'NV', 'NV', 'NV', 'NV', 'BKL', 'NV', 'NV', 'NV', 'NV', 'NV', 'NV', 'NV', 'BKL', 'BKL', 'NV', 'NV', 'NV', 'NV', 'BKL', 'NV', 'NV', 'NV', 'NV', 'NV', 'NV', 'NV', 'MEL', 'NV', 'NV', 'NV', 'NV', 'NV', 'BKL', 'NV', 'NV', 'NV', 'NV', 'NV', 'NV', 'NV', 'NV', 'NV', 'BKL', 'NV', 'BKL', 'NV', 'NV', 'NV', 'NV', 'NV', 'NV', 'NV', 'MEL', 'BKL', 'MEL', 'BKL', 'NV', 'NV', 'NV', 'BKL', 'BKL', 'NV', 'NV', 'NV', 'BKL', 'NV', 'NV', 'BKL', 'BKL', 'BKL', 'NV', 'BKL', 'NV', 'NV', 'NV', 'NV', 'NV', 'NV', 'MEL', 'NV', 'BKL', 'BKL', 'NV', 'NV', 'NV', 'NV', 'NV', 'MEL', 'NV', 'NV', 'MEL', 'NV', 'NV', 'NV', 'MEL', 'MEL', 'NV', 'NV', 'MEL', 'NV', 'NV', 'MEL', 'MEL', 'MEL', 'NV', 'NV', 'NV', 'NV', 'NV', 'NV', 'NV', 'NV', 'NV', 'NV', 'NV', 'NV', 'NV', 'MEL', 'NV', 'NV', 'NV', 'MEL', 'MEL', 'NV', 'MEL', 'NV', 'NV', 'NV', 'NV', 'NV', 'NV', 'NV', 'NV', 'MEL', 'NV', 'NV', 'NV', 'NV', 'NV', 'NV', 'NV', 'MEL', 'NV', 'NV', 'NV', 'MEL', 'NV', 'NV', 'NV', 'MEL', 'NV', 'MEL', 'NV', 'NV', 'NV', 'MEL', 'NV', 'NV', 'NV', 'MEL', 'NV', 'NV', 'NV', 'NV', 'NV', 'NV', 'NV', 'NV', 'NV', 'NV', 'NV', 'NV', 'NV', 'NV', 'NV', 'NV', 'NV', 'NV', 'NV', 'NV', 'NV', 'NV', 'MEL', 'NV', 'NV', 'NV', 'NV', 'NV', 'NV', 'MEL', 'NV', 'NV', 'NV', 'NV', 'NV', 'NV', 'MEL', 'NV', 'MEL', 'NV', 'NV', 'NV', 'NV', 'MEL', 'NV', 'NV', 'NV', 'NV', 'NV', 'NV', 'NV', 'MEL', 'NV', 'NV', 'MEL', 'NV', 'NV', 'MEL', 'NV', 'NV', 'MEL', 'NV', 'NV', 'NV', 'MEL', 'NV', 'MEL', 'MEL', 'MEL', 'NV', 'NV', 'NV', 'NV', 'MEL', 'MEL', 'MEL', 'NV', 'NV', 'NV', 'MEL', 'MEL', 'MEL', 'NV', 'NV', 'NV', 'NV', 'MEL', 'NV', 'NV', 'NV', 'MEL', 'NV', 'MEL', 'NV', 'NV', 'NV', 'NV', 'MEL', 'NV', 'MEL', 'NV', 'NV', 'NV', 'NV', 'NV', 'MEL', 'NV', 'MEL', 'MEL', 'NV', 'MEL', 'MEL', 'MEL', 'MEL', 'MEL', 'MEL', 'NV', 'NV', 'MEL', 'MEL', 'NV', 'NV', 'NV', 'NV', 'NV', 'NV', 'NV', 'NV', 'NV', 'NV', 'NV', 'NV', 'NV', 'NV', 'NV', 'NV', 'NV', 'NV', 'NV', 'NV', 'NV', 'NV', 'NV', 'NV', 'NV', 'NV', 'NV', 'NV', 'NV', 'NV', 'NV', 'NV', 'NV', 'NV', 'NV', 'NV', 'NV', 'NV', 'NV', 'NV', 'NV', 'NV', 'NV', 'NV', 'NV', 'NV', 'NV', 'NV', 'NV', 'MEL', 'MEL', 'NV', 'NV', 'MEL', 'NV', 'MEL', 'MEL', 'MEL', 'MEL', 'MEL', 'NV', 'MEL', 'MEL', 'MEL', 'MEL', 'MEL', 'MEL', 'NV', 'MEL', 'NV', 'MEL', 'NV', 'NV', 'MEL', 'MEL', 'NV', 'NV', 'NV', 'NV', 'NV', 'NV', 'MEL', 'NV', 'MEL', 'NV', 'NV', 'NV', 'NV', 'NV', 'NV', 'NV', 'NV', 'MEL', 'NV', 'NV', 'NV', 'NV', 'MEL', 'MEL', 'MEL', 'MEL', 'NV', 'MEL', 'NV', 'MEL', 'NV', 'MEL', 'MEL', 'NV', 'NV', 'MEL', 'NV', 'NV', 'NV', 'NV', 'NV', 'MEL', 'NV', 'NV', 'NV', 'NV', 'NV', 'NV', 'NV', 'NV', 'NV', 'NV', 'NV', 'NV', 'MEL', 'NV', 'NV', 'MEL', 'NV', 'NV', 'NV', 'NV', 'NV', 'NV', 'NV', 'NV', 'MEL', 'NV', 'NV', 'NV', 'MEL', 'NV', 'NV', 'NV', 'NV', 'NV', 'NV', 'MEL', 'NV', 'NV', 'NV', 'NV', 'NV', 'NV', 'NV', 'NV', 'NV', 'NV', 'NV', 'NV', 'NV', 'NV', 'NV', 'NV', 'NV', 'NV', 'NV', 'MEL', 'MEL', 'NV', 'NV', 'MEL', 'MEL', 'NV', 'NV', 'NV', 'MEL', 'NV', 'NV', 'NV', 'NV', 'MEL', 'NV', 'NV', 'MEL', 'NV', 'NV', 'NV', 'NV', 'NV', 'NV', 'NV', 'NV', 'NV', 'MEL', 'NV', 'NV', 'MEL', 'NV', 'NV', 'NV', 'NV', 'NV', 'NV', 'NV', 'MEL', 'NV', 'NV', 'NV', 'NV', 'NV', 'NV', 'NV', 'NV', 'NV', 'NV', 'NV', 'NV', 'NV', 'NV', 'NV', 'NV', 'NV', 'MEL', 'NV', 'NV', 'NV', 'NV', 'MEL', 'NV', 'MEL', 'NV', 'NV', 'NV', 'MEL', 'NV', 'NV', 'NV', 'NV', 'NV', 'NV', 'NV', 'NV', 'MEL', 'MEL', 'NV', 'MEL', 'MEL', 'MEL', 'MEL', 'NV', 'MEL', 'NV', 'MEL', 'NV', 'NV', 'NV', 'NV', 'NV', 'NV', 'NV', 'NV', 'NV', 'NV', 'NV', 'NV', 'NV', 'MEL', 'NV', 'NV', 'NV', 'NV', 'MEL', 'NV', 'NV', 'NV', 'NV', 'NV', 'MEL', 'MEL', 'NV', 'NV', 'NV', 'NV', 'NV', 'NV', 'NV', 'NV', 'MEL', 'MEL', 'NV', 'MEL', 'NV', 'MEL', 'MEL', 'NV', 'MEL', 'MEL', 'MEL', 'MEL', 'NV', 'NV', 'NV', 'NV', 'NV', 'MEL', 'NV', 'NV', 'NV', 'NV', 'MEL', 'MEL', 'NV', 'MEL', 'MEL', 'MEL', 'MEL', 'MEL', 'MEL', 'NV', 'MEL', 'NV', 'NV', 'NV', 'NV', 'NV', 'NV', 'NV', 'NV', 'NV', 'NV']\n"
          ]
        }
      ]
    },
    {
      "cell_type": "code",
      "source": [
        "\n",
        "def y_train_build(label_file_path, images_file_path, partition = None):\n",
        "    '''\n",
        "\n",
        "    '''\n",
        "\n",
        "    # Extract the picture file name from file\n",
        "    images_list_df = load_csv_to_df(label_file_path)\n",
        "\n",
        "    # Extract the picture names from the partition folder\n",
        "    if partition != None:\n",
        "        n, df = files_list(os.path.join(train_file_path, partition))\n",
        "    else:\n",
        "        n, df = files_list(train_file_path)\n",
        "    #print(f'Picture number in partition {partition}: {n} ')\n",
        "\n",
        "    # Making the y_train\n",
        "    y_train = []\n",
        "    for name in df:\n",
        "        y_train.append(\n",
        "            return_label_from_image(images_list_df,\n",
        "                                    return_picture_name(name)\n",
        "                                    )\n",
        "        )\n",
        "\n",
        "    return(y_train)"
      ],
      "metadata": {
        "id": "kNRiQffz9eDS"
      },
      "execution_count": 18,
      "outputs": []
    },
    {
      "cell_type": "code",
      "source": [
        "#label_file_path = '/content/drive/MyDrive/Colab Notebooks/Master UOC/TFM/Dermatological lesion classification/Data/ISIC_2019_Training_GroundTruth.csv'\n",
        "#images_file_path = '/content/drive/MyDrive/Colab Notebooks/Master UOC/TFM/Dermatological lesion classification/Data/Train'\n",
        "#partition = 'P1'\n",
        "\n",
        "#print(y_train_build(label_file_path, images_file_path, partition))"
      ],
      "metadata": {
        "colab": {
          "base_uri": "https://localhost:8080/"
        },
        "id": "MhpfBXej_HCW",
        "outputId": "e43386bd-9e27-42b8-a2d6-3b1e62c718fa"
      },
      "execution_count": 21,
      "outputs": [
        {
          "output_type": "stream",
          "name": "stdout",
          "text": [
            "Picture number in partition P1: 2533 \n",
            "['NV', 'NV', 'BCC', 'NV', 'NV', 'NV', 'NV', 'BKL', 'NV', 'NV', 'SCC', 'NV', 'NV', 'NV', 'MEL', 'BKL', 'BKL', 'DF', 'NV', 'NV', 'NV', 'NV', 'NV', 'NV', 'BCC', 'NV', 'NV', 'NV', 'BKL', 'NV', 'NV', 'NV', 'NV', 'NV', 'NV', 'MEL', 'NV', 'NV', 'BKL', 'NV', 'NV', 'NV', 'MEL', 'NV', 'BCC', 'MEL', 'NV', 'BKL', 'NV', 'MEL', 'NV', 'NV', 'NV', 'NV', 'NV', 'MEL', 'NV', 'NV', 'BKL', 'BKL', 'NV', 'SCC', 'NV', 'NV', 'NV', 'NV', 'BCC', 'NV', 'NV', 'NV', 'BKL', 'NV', 'MEL', 'NV', 'NV', 'NV', 'NV', 'NV', 'NV', 'BCC', 'NV', 'NV', 'MEL', 'NV', 'BKL', 'NV', 'BCC', 'NV', 'NV', 'NV', 'BKL', 'NV', 'NV', 'BKL', 'NV', 'NV', 'NV', 'NV', 'NV', 'MEL', 'SCC', 'VASC', 'MEL', 'NV', 'NV', 'NV', 'NV', 'NV', 'NV', 'BKL', 'NV', 'BCC', 'NV', 'NV', 'BCC', 'NV', 'NV', 'BKL', 'NV', 'AK', 'NV', 'DF', 'NV', 'NV', 'NV', 'NV', 'NV', 'VASC', 'NV', 'MEL', 'VASC', 'NV', 'BCC', 'NV', 'MEL', 'VASC', 'MEL', 'NV', 'VASC', 'NV', 'MEL', 'NV', 'NV', 'BCC', 'BKL', 'DF', 'NV', 'NV', 'NV', 'NV', 'NV', 'NV', 'NV', 'BCC', 'NV', 'NV', 'MEL', 'VASC', 'NV', 'NV', 'NV', 'NV', 'BCC', 'NV', 'BKL', 'NV', 'NV', 'NV', 'NV', 'NV', 'NV', 'NV', 'BCC', 'NV', 'NV', 'SCC', 'BKL', 'NV', 'MEL', 'NV', 'NV', 'BCC', 'NV', 'BKL', 'BKL', 'NV', 'NV', 'NV', 'NV', 'NV', 'NV', 'BKL', 'NV', 'NV', 'BKL', 'MEL', 'NV', 'DF', 'VASC', 'NV', 'NV', 'NV', 'NV', 'NV', 'NV', 'NV', 'NV', 'NV', 'NV', 'MEL', 'NV', 'NV', 'NV', 'NV', 'NV', 'NV', 'NV', 'VASC', 'BKL', 'SCC', 'NV', 'NV', 'BKL', 'NV', 'NV', 'NV', 'NV', 'NV', 'NV', 'BCC', 'NV', 'BKL', 'NV', 'NV', 'NV', 'NV', 'BCC', 'NV', 'NV', 'MEL', 'BKL', 'BCC', 'SCC', 'MEL', 'NV', 'BCC', 'NV', 'VASC', 'NV', 'NV', 'NV', 'NV', 'NV', 'BKL', 'BKL', 'NV', 'NV', 'NV', 'NV', 'NV', 'NV', 'MEL', 'NV', 'NV', 'MEL', 'NV', 'NV', 'NV', 'NV', 'BCC', 'BCC', 'NV', 'NV', 'NV', 'NV', 'NV', 'NV', 'NV', 'MEL', 'NV', 'BKL', 'NV', 'NV', 'NV', 'NV', 'MEL', 'NV', 'BKL', 'NV', 'NV', 'MEL', 'BKL', 'MEL', 'BKL', 'NV', 'NV', 'NV', 'AK', 'NV', 'NV', 'BKL', 'NV', 'NV', 'NV', 'NV', 'DF', 'BKL', 'NV', 'NV', 'SCC', 'NV', 'MEL', 'NV', 'NV', 'NV', 'NV', 'NV', 'NV', 'BKL', 'MEL', 'NV', 'NV', 'BKL', 'NV', 'MEL', 'NV', 'NV', 'BKL', 'AK', 'SCC', 'BCC', 'NV', 'NV', 'NV', 'NV', 'SCC', 'NV', 'NV', 'BKL', 'MEL', 'BKL', 'NV', 'NV', 'NV', 'NV', 'VASC', 'MEL', 'NV', 'NV', 'MEL', 'NV', 'NV', 'BCC', 'NV', 'BKL', 'MEL', 'NV', 'NV', 'NV', 'NV', 'BCC', 'NV', 'BKL', 'NV', 'BKL', 'BKL', 'AK', 'NV', 'NV', 'BCC', 'NV', 'NV', 'SCC', 'NV', 'BKL', 'NV', 'NV', 'NV', 'NV', 'BKL', 'NV', 'NV', 'NV', 'NV', 'NV', 'BKL', 'NV', 'NV', 'NV', 'NV', 'NV', 'NV', 'NV', 'NV', 'NV', 'BKL', 'NV', 'NV', 'NV', 'NV', 'BKL', 'VASC', 'NV', 'NV', 'NV', 'NV', 'BKL', 'NV', 'NV', 'NV', 'NV', 'NV', 'BKL', 'NV', 'BKL', 'NV', 'NV', 'NV', 'NV', 'MEL', 'NV', 'NV', 'NV', 'NV', 'NV', 'NV', 'MEL', 'NV', 'NV', 'NV', 'NV', 'DF', 'NV', 'NV', 'NV', 'BKL', 'NV', 'DF', 'MEL', 'BKL', 'NV', 'NV', 'NV', 'NV', 'NV', 'NV', 'BKL', 'NV', 'NV', 'NV', 'NV', 'NV', 'NV', 'NV', 'NV', 'NV', 'NV', 'VASC', 'NV', 'BKL', 'NV', 'NV', 'SCC', 'NV', 'NV', 'NV', 'NV', 'NV', 'BCC', 'NV', 'MEL', 'NV', 'NV', 'AK', 'NV', 'BCC', 'BKL', 'NV', 'NV', 'DF', 'NV', 'NV', 'NV', 'NV', 'AK', 'MEL', 'NV', 'BKL', 'NV', 'NV', 'NV', 'NV', 'NV', 'NV', 'MEL', 'NV', 'NV', 'NV', 'NV', 'NV', 'NV', 'NV', 'BCC', 'NV', 'BKL', 'NV', 'NV', 'MEL', 'BCC', 'NV', 'NV', 'NV', 'NV', 'BKL', 'BKL', 'DF', 'BKL', 'MEL', 'BKL', 'NV', 'NV', 'NV', 'NV', 'BKL', 'NV', 'NV', 'NV', 'NV', 'NV', 'NV', 'MEL', 'NV', 'NV', 'NV', 'BKL', 'AK', 'NV', 'NV', 'NV', 'NV', 'NV', 'NV', 'MEL', 'NV', 'NV', 'NV', 'NV', 'NV', 'NV', 'NV', 'SCC', 'NV', 'NV', 'NV', 'BKL', 'NV', 'NV', 'BCC', 'BKL', 'NV', 'NV', 'NV', 'NV', 'NV', 'NV', 'NV', 'NV', 'NV', 'NV', 'NV', 'NV', 'NV', 'BKL', 'NV', 'NV', 'NV', 'NV', 'NV', 'AK', 'BKL', 'NV', 'NV', 'BKL', 'NV', 'NV', 'NV', 'NV', 'NV', 'MEL', 'NV', 'NV', 'NV', 'MEL', 'NV', 'NV', 'NV', 'BKL', 'NV', 'NV', 'MEL', 'NV', 'MEL', 'SCC', 'VASC', 'NV', 'NV', 'NV', 'BCC', 'NV', 'NV', 'NV', 'NV', 'NV', 'NV', 'NV', 'NV', 'NV', 'VASC', 'BKL', 'BCC', 'BCC', 'BKL', 'NV', 'BKL', 'NV', 'NV', 'MEL', 'BCC', 'NV', 'BKL', 'NV', 'NV', 'NV', 'NV', 'NV', 'NV', 'NV', 'NV', 'NV', 'NV', 'NV', 'MEL', 'NV', 'BCC', 'NV', 'NV', 'NV', 'NV', 'MEL', 'NV', 'SCC', 'MEL', 'BKL', 'MEL', 'NV', 'NV', 'NV', 'NV', 'NV', 'NV', 'NV', 'AK', 'BKL', 'NV', 'NV', 'NV', 'NV', 'NV', 'NV', 'NV', 'NV', 'SCC', 'NV', 'MEL', 'NV', 'SCC', 'NV', 'MEL', 'NV', 'SCC', 'NV', 'BKL', 'BCC', 'BKL', 'MEL', 'NV', 'BCC', 'NV', 'NV', 'BKL', 'NV', 'BKL', 'NV', 'NV', 'VASC', 'NV', 'NV', 'NV', 'NV', 'NV', 'NV', 'SCC', 'NV', 'MEL', 'NV', 'NV', 'NV', 'NV', 'NV', 'NV', 'NV', 'NV', 'NV', 'AK', 'NV', 'BKL', 'NV', 'NV', 'NV', 'NV', 'NV', 'BCC', 'MEL', 'NV', 'AK', 'NV', 'NV', 'NV', 'SCC', 'NV', 'SCC', 'NV', 'NV', 'NV', 'NV', 'NV', 'NV', 'NV', 'NV', 'NV', 'NV', 'NV', 'NV', 'NV', 'MEL', 'NV', 'NV', 'NV', 'BKL', 'NV', 'NV', 'BCC', 'NV', 'AK', 'NV', 'BKL', 'NV', 'NV', 'NV', 'NV', 'NV', 'NV', 'MEL', 'NV', 'NV', 'MEL', 'NV', 'NV', 'NV', 'MEL', 'NV', 'NV', 'MEL', 'DF', 'NV', 'BKL', 'BKL', 'NV', 'NV', 'BKL', 'NV', 'NV', 'BCC', 'NV', 'NV', 'NV', 'NV', 'NV', 'BKL', 'NV', 'NV', 'BKL', 'MEL', 'NV', 'NV', 'NV', 'MEL', 'MEL', 'BKL', 'BCC', 'NV', 'NV', 'NV', 'NV', 'BKL', 'NV', 'BKL', 'NV', 'NV', 'NV', 'BKL', 'NV', 'NV', 'NV', 'NV', 'MEL', 'NV', 'NV', 'NV', 'BKL', 'NV', 'BKL', 'NV', 'NV', 'NV', 'NV', 'BCC', 'NV', 'NV', 'NV', 'NV', 'BKL', 'BKL', 'NV', 'NV', 'MEL', 'NV', 'BKL', 'NV', 'NV', 'NV', 'BKL', 'BKL', 'VASC', 'BCC', 'NV', 'NV', 'NV', 'NV', 'DF', 'SCC', 'NV', 'BKL', 'BCC', 'NV', 'NV', 'NV', 'NV', 'NV', 'NV', 'BKL', 'BCC', 'NV', 'NV', 'BCC', 'SCC', 'NV', 'NV', 'NV', 'NV', 'NV', 'NV', 'MEL', 'NV', 'NV', 'NV', 'MEL', 'NV', 'VASC', 'NV', 'NV', 'NV', 'NV', 'NV', 'NV', 'SCC', 'BKL', 'NV', 'MEL', 'BCC', 'NV', 'NV', 'MEL', 'NV', 'NV', 'NV', 'NV', 'NV', 'NV', 'NV', 'NV', 'NV', 'NV', 'NV', 'BKL', 'NV', 'NV', 'NV', 'NV', 'NV', 'NV', 'NV', 'NV', 'SCC', 'NV', 'NV', 'NV', 'NV', 'NV', 'NV', 'NV', 'VASC', 'NV', 'NV', 'NV', 'NV', 'NV', 'NV', 'BCC', 'NV', 'NV', 'NV', 'BKL', 'NV', 'NV', 'NV', 'BKL', 'NV', 'NV', 'NV', 'NV', 'NV', 'NV', 'NV', 'NV', 'NV', 'NV', 'SCC', 'BKL', 'NV', 'BKL', 'NV', 'NV', 'NV', 'NV', 'MEL', 'NV', 'NV', 'NV', 'MEL', 'NV', 'DF', 'NV', 'NV', 'NV', 'BKL', 'AK', 'BKL', 'BCC', 'NV', 'NV', 'NV', 'VASC', 'BKL', 'NV', 'NV', 'NV', 'NV', 'NV', 'BKL', 'BCC', 'NV', 'NV', 'NV', 'MEL', 'NV', 'MEL', 'NV', 'NV', 'NV', 'BCC', 'NV', 'NV', 'BCC', 'NV', 'NV', 'AK', 'NV', 'SCC', 'VASC', 'NV', 'NV', 'SCC', 'NV', 'SCC', 'NV', 'BKL', 'NV', 'BCC', 'NV', 'BKL', 'MEL', 'NV', 'NV', 'NV', 'NV', 'NV', 'NV', 'NV', 'NV', 'NV', 'BKL', 'NV', 'NV', 'BCC', 'NV', 'NV', 'NV', 'NV', 'NV', 'BKL', 'BKL', 'NV', 'MEL', 'NV', 'BKL', 'NV', 'NV', 'BKL', 'NV', 'MEL', 'NV', 'MEL', 'NV', 'NV', 'NV', 'NV', 'SCC', 'SCC', 'NV', 'NV', 'NV', 'BCC', 'NV', 'NV', 'NV', 'NV', 'NV', 'MEL', 'NV', 'AK', 'NV', 'NV', 'NV', 'NV', 'NV', 'SCC', 'NV', 'NV', 'NV', 'NV', 'NV', 'SCC', 'NV', 'NV', 'NV', 'NV', 'NV', 'NV', 'NV', 'NV', 'NV', 'MEL', 'NV', 'NV', 'NV', 'MEL', 'MEL', 'BCC', 'NV', 'BKL', 'MEL', 'NV', 'BCC', 'MEL', 'DF', 'MEL', 'BCC', 'NV', 'SCC', 'NV', 'BCC', 'BCC', 'NV', 'NV', 'BCC', 'BKL', 'NV', 'NV', 'NV', 'NV', 'NV', 'NV', 'BCC', 'NV', 'NV', 'NV', 'NV', 'NV', 'NV', 'NV', 'NV', 'NV', 'SCC', 'NV', 'NV', 'BKL', 'NV', 'MEL', 'NV', 'BKL', 'NV', 'NV', 'NV', 'BKL', 'NV', 'NV', 'NV', 'NV', 'NV', 'NV', 'NV', 'NV', 'NV', 'NV', 'NV', 'NV', 'NV', 'NV', 'NV', 'NV', 'NV', 'NV', 'NV', 'BKL', 'NV', 'NV', 'NV', 'MEL', 'BKL', 'BCC', 'NV', 'MEL', 'NV', 'BKL', 'BCC', 'MEL', 'BKL', 'NV', 'NV', 'NV', 'NV', 'NV', 'NV', 'MEL', 'NV', 'NV', 'MEL', 'NV', 'NV', 'AK', 'NV', 'NV', 'NV', 'NV', 'NV', 'NV', 'NV', 'NV', 'VASC', 'BKL', 'NV', 'AK', 'BCC', 'BCC', 'BKL', 'BCC', 'VASC', 'NV', 'NV', 'NV', 'MEL', 'NV', 'MEL', 'NV', 'NV', 'NV', 'NV', 'NV', 'NV', 'NV', 'NV', 'MEL', 'BKL', 'NV', 'NV', 'NV', 'NV', 'NV', 'MEL', 'NV', 'NV', 'NV', 'NV', 'VASC', 'NV', 'NV', 'NV', 'NV', 'NV', 'MEL', 'BKL', 'MEL', 'NV', 'NV', 'NV', 'MEL', 'NV', 'NV', 'NV', 'AK', 'NV', 'NV', 'SCC', 'BKL', 'NV', 'MEL', 'NV', 'MEL', 'MEL', 'NV', 'NV', 'NV', 'BKL', 'NV', 'NV', 'NV', 'NV', 'NV', 'NV', 'NV', 'BKL', 'NV', 'NV', 'NV', 'NV', 'NV', 'BKL', 'NV', 'NV', 'NV', 'BKL', 'BKL', 'MEL', 'NV', 'BCC', 'NV', 'BKL', 'BKL', 'NV', 'NV', 'NV', 'NV', 'NV', 'NV', 'NV', 'NV', 'MEL', 'VASC', 'BKL', 'NV', 'BKL', 'NV', 'NV', 'BKL', 'BKL', 'NV', 'NV', 'NV', 'BKL', 'NV', 'BKL', 'NV', 'MEL', 'AK', 'AK', 'NV', 'NV', 'NV', 'NV', 'NV', 'NV', 'NV', 'NV', 'BKL', 'NV', 'BCC', 'NV', 'NV', 'NV', 'NV', 'BKL', 'NV', 'BCC', 'NV', 'BCC', 'MEL', 'NV', 'NV', 'NV', 'NV', 'AK', 'NV', 'NV', 'NV', 'NV', 'NV', 'NV', 'BKL', 'NV', 'NV', 'MEL', 'NV', 'MEL', 'NV', 'NV', 'NV', 'NV', 'NV', 'MEL', 'NV', 'NV', 'NV', 'NV', 'BKL', 'NV', 'NV', 'NV', 'BCC', 'NV', 'NV', 'NV', 'NV', 'BCC', 'NV', 'NV', 'NV', 'NV', 'BCC', 'NV', 'DF', 'SCC', 'BKL', 'NV', 'NV', 'BKL', 'BKL', 'NV', 'BKL', 'NV', 'NV', 'NV', 'NV', 'NV', 'NV', 'NV', 'MEL', 'MEL', 'NV', 'MEL', 'NV', 'NV', 'NV', 'NV', 'NV', 'NV', 'NV', 'VASC', 'NV', 'NV', 'NV', 'NV', 'MEL', 'BKL', 'NV', 'NV', 'NV', 'BKL', 'NV', 'NV', 'NV', 'NV', 'MEL', 'NV', 'BKL', 'BKL', 'BKL', 'NV', 'BCC', 'NV', 'NV', 'BCC', 'NV', 'NV', 'NV', 'BKL', 'NV', 'NV', 'BKL', 'MEL', 'NV', 'NV', 'MEL', 'NV', 'NV', 'BKL', 'NV', 'NV', 'VASC', 'NV', 'BKL', 'BKL', 'NV', 'MEL', 'NV', 'NV', 'NV', 'AK', 'NV', 'NV', 'MEL', 'NV', 'NV', 'NV', 'NV', 'SCC', 'MEL', 'NV', 'NV', 'MEL', 'NV', 'NV', 'BCC', 'SCC', 'MEL', 'NV', 'NV', 'NV', 'NV', 'BKL', 'BKL', 'BCC', 'NV', 'NV', 'NV', 'MEL', 'NV', 'NV', 'SCC', 'NV', 'AK', 'MEL', 'NV', 'NV', 'NV', 'MEL', 'NV', 'NV', 'MEL', 'NV', 'NV', 'BKL', 'NV', 'NV', 'MEL', 'MEL', 'NV', 'NV', 'NV', 'NV', 'DF', 'BKL', 'MEL', 'NV', 'MEL', 'NV', 'NV', 'NV', 'NV', 'NV', 'NV', 'NV', 'NV', 'BKL', 'NV', 'BCC', 'NV', 'BKL', 'NV', 'NV', 'NV', 'MEL', 'NV', 'DF', 'NV', 'NV', 'MEL', 'NV', 'NV', 'NV', 'BKL', 'NV', 'NV', 'NV', 'NV', 'NV', 'NV', 'BCC', 'BKL', 'NV', 'MEL', 'NV', 'NV', 'NV', 'BKL', 'NV', 'NV', 'NV', 'NV', 'NV', 'NV', 'SCC', 'NV', 'NV', 'NV', 'NV', 'NV', 'NV', 'NV', 'BCC', 'NV', 'BCC', 'NV', 'NV', 'MEL', 'NV', 'NV', 'BKL', 'NV', 'BKL', 'BKL', 'NV', 'NV', 'NV', 'BKL', 'BKL', 'NV', 'NV', 'NV', 'NV', 'BKL', 'NV', 'NV', 'NV', 'NV', 'SCC', 'NV', 'NV', 'NV', 'NV', 'NV', 'NV', 'NV', 'NV', 'NV', 'NV', 'BKL', 'NV', 'NV', 'NV', 'NV', 'NV', 'NV', 'NV', 'BKL', 'BKL', 'NV', 'NV', 'BCC', 'NV', 'NV', 'BKL', 'BKL', 'NV', 'MEL', 'NV', 'NV', 'NV', 'BKL', 'NV', 'NV', 'BKL', 'NV', 'MEL', 'NV', 'BKL', 'SCC', 'NV', 'NV', 'NV', 'MEL', 'NV', 'NV', 'NV', 'NV', 'BKL', 'NV', 'SCC', 'NV', 'NV', 'NV', 'NV', 'NV', 'NV', 'NV', 'NV', 'NV', 'BKL', 'NV', 'NV', 'NV', 'BKL', 'NV', 'NV', 'MEL', 'NV', 'MEL', 'NV', 'NV', 'MEL', 'MEL', 'NV', 'NV', 'BKL', 'NV', 'NV', 'MEL', 'NV', 'NV', 'BKL', 'MEL', 'MEL', 'NV', 'NV', 'NV', 'NV', 'NV', 'BCC', 'NV', 'NV', 'NV', 'NV', 'NV', 'NV', 'NV', 'NV', 'DF', 'NV', 'NV', 'NV', 'NV', 'BKL', 'MEL', 'NV', 'NV', 'NV', 'NV', 'NV', 'NV', 'NV', 'BKL', 'NV', 'NV', 'NV', 'NV', 'NV', 'NV', 'NV', 'NV', 'NV', 'NV', 'MEL', 'NV', 'NV', 'SCC', 'NV', 'NV', 'NV', 'SCC', 'NV', 'NV', 'BKL', 'NV', 'NV', 'NV', 'VASC', 'NV', 'NV', 'SCC', 'MEL', 'NV', 'BKL', 'NV', 'NV', 'NV', 'NV', 'NV', 'NV', 'NV', 'NV', 'NV', 'NV', 'NV', 'NV', 'NV', 'NV', 'MEL', 'NV', 'NV', 'NV', 'NV', 'NV', 'NV', 'NV', 'NV', 'NV', 'NV', 'SCC', 'NV', 'VASC', 'NV', 'NV', 'NV', 'NV', 'MEL', 'NV', 'NV', 'NV', 'NV', 'NV', 'VASC', 'NV', 'DF', 'NV', 'MEL', 'NV', 'VASC', 'NV', 'BKL', 'NV', 'NV', 'NV', 'NV', 'NV', 'MEL', 'MEL', 'BKL', 'BCC', 'MEL', 'NV', 'MEL', 'NV', 'BKL', 'NV', 'NV', 'NV', 'NV', 'NV', 'NV', 'BCC', 'NV', 'NV', 'NV', 'NV', 'NV', 'NV', 'NV', 'SCC', 'NV', 'NV', 'NV', 'BKL', 'MEL', 'NV', 'BCC', 'NV', 'NV', 'NV', 'DF', 'NV', 'NV', 'NV', 'NV', 'BKL', 'BKL', 'NV', 'NV', 'NV', 'SCC', 'NV', 'NV', 'BCC', 'NV', 'NV', 'BKL', 'NV', 'NV', 'NV', 'NV', 'NV', 'NV', 'MEL', 'NV', 'MEL', 'NV', 'DF', 'BCC', 'MEL', 'NV', 'MEL', 'NV', 'NV', 'NV', 'VASC', 'NV', 'BKL', 'NV', 'NV', 'NV', 'NV', 'NV', 'NV', 'NV', 'NV', 'SCC', 'BKL', 'NV', 'SCC', 'NV', 'NV', 'NV', 'NV', 'NV', 'BKL', 'NV', 'MEL', 'NV', 'BCC', 'NV', 'BKL', 'BKL', 'BKL', 'NV', 'NV', 'NV', 'NV', 'NV', 'SCC', 'NV', 'BCC', 'NV', 'NV', 'NV', 'BCC', 'BKL', 'NV', 'BKL', 'BKL', 'NV', 'NV', 'BKL', 'NV', 'NV', 'NV', 'NV', 'NV', 'NV', 'NV', 'AK', 'NV', 'NV', 'NV', 'BKL', 'NV', 'MEL', 'NV', 'NV', 'DF', 'NV', 'NV', 'NV', 'SCC', 'NV', 'NV', 'NV', 'BCC', 'BKL', 'MEL', 'NV', 'MEL', 'BKL', 'NV', 'MEL', 'NV', 'NV', 'NV', 'NV', 'NV', 'BKL', 'NV', 'NV', 'NV', 'NV', 'NV', 'BKL', 'NV', 'NV', 'MEL', 'NV', 'NV', 'MEL', 'NV', 'NV', 'VASC', 'NV', 'NV', 'NV', 'NV', 'NV', 'NV', 'NV', 'NV', 'NV', 'NV', 'NV', 'AK', 'NV', 'NV', 'NV', 'NV', 'MEL', 'NV', 'BCC', 'NV', 'BKL', 'NV', 'NV', 'NV', 'NV', 'NV', 'BKL', 'NV', 'NV', 'BKL', 'NV', 'NV', 'NV', 'NV', 'NV', 'BKL', 'BKL', 'NV', 'NV', 'MEL', 'MEL', 'NV', 'NV', 'NV', 'MEL', 'VASC', 'NV', 'NV', 'MEL', 'NV', 'NV', 'NV', 'NV', 'NV', 'NV', 'NV', 'NV', 'NV', 'NV', 'NV', 'NV', 'MEL', 'NV', 'MEL', 'NV', 'NV', 'NV', 'MEL', 'NV', 'NV', 'NV', 'MEL', 'NV', 'NV', 'NV', 'NV', 'MEL', 'NV', 'NV', 'MEL', 'NV', 'NV', 'NV', 'MEL', 'NV', 'MEL', 'NV', 'NV', 'NV', 'BKL', 'NV', 'NV', 'BKL', 'NV', 'NV', 'NV', 'NV', 'NV', 'MEL', 'NV', 'NV', 'NV', 'NV', 'BKL', 'MEL', 'NV', 'NV', 'NV', 'NV', 'NV', 'NV', 'NV', 'NV', 'MEL', 'MEL', 'NV', 'NV', 'NV', 'BKL', 'NV', 'NV', 'NV', 'MEL', 'BKL', 'NV', 'NV', 'NV', 'MEL', 'MEL', 'MEL', 'BKL', 'MEL', 'MEL', 'MEL', 'BKL', 'MEL', 'MEL', 'NV', 'MEL', 'BKL', 'BKL', 'MEL', 'MEL', 'NV', 'MEL', 'NV', 'BKL', 'NV', 'MEL', 'NV', 'MEL', 'NV', 'NV', 'MEL', 'MEL', 'MEL', 'MEL', 'BKL', 'NV', 'NV', 'NV', 'NV', 'NV', 'NV', 'NV', 'NV', 'MEL', 'NV', 'NV', 'NV', 'NV', 'NV', 'MEL', 'NV', 'BKL', 'MEL', 'NV', 'MEL', 'NV', 'MEL', 'NV', 'MEL', 'MEL', 'BKL', 'NV', 'NV', 'NV', 'BKL', 'NV', 'NV', 'NV', 'NV', 'MEL', 'NV', 'BKL', 'NV', 'NV', 'NV', 'NV', 'MEL', 'BKL', 'NV', 'NV', 'NV', 'NV', 'NV', 'NV', 'NV', 'NV', 'NV', 'MEL', 'MEL', 'NV', 'BKL', 'MEL', 'MEL', 'NV', 'NV', 'NV', 'NV', 'NV', 'NV', 'BKL', 'NV', 'NV', 'NV', 'NV', 'NV', 'NV', 'NV', 'NV', 'MEL', 'NV', 'NV', 'NV', 'NV', 'NV', 'NV', 'NV', 'NV', 'NV', 'NV', 'NV', 'NV', 'NV', 'NV', 'NV', 'NV', 'NV', 'NV', 'NV', 'NV', 'NV', 'NV', 'NV', 'NV', 'NV', 'NV', 'NV', 'NV', 'NV', 'NV', 'NV', 'NV', 'NV', 'NV', 'NV', 'NV', 'NV', 'NV', 'NV', 'NV', 'NV', 'NV', 'NV', 'NV', 'NV', 'NV', 'NV', 'NV', 'NV', 'NV', 'NV', 'NV', 'NV', 'NV', 'NV', 'NV', 'NV', 'NV', 'NV', 'NV', 'NV', 'NV', 'NV', 'NV', 'NV', 'NV', 'NV', 'NV', 'NV', 'NV', 'NV', 'NV', 'NV', 'NV', 'NV', 'NV', 'NV', 'NV', 'NV', 'NV', 'NV', 'NV', 'NV', 'NV', 'NV', 'NV', 'NV', 'NV', 'NV', 'NV', 'NV', 'NV', 'NV', 'NV', 'NV', 'NV', 'NV', 'NV', 'NV', 'NV', 'NV', 'NV', 'NV', 'NV', 'NV', 'NV', 'NV', 'NV', 'NV', 'NV', 'NV', 'NV', 'NV', 'NV', 'NV', 'NV', 'NV', 'NV', 'NV', 'NV', 'NV', 'NV', 'NV', 'NV', 'NV', 'NV', 'NV', 'NV', 'NV', 'NV', 'NV', 'NV', 'NV', 'NV', 'NV', 'NV', 'NV', 'NV', 'NV', 'NV', 'NV', 'NV', 'NV', 'NV', 'NV', 'NV', 'NV', 'NV', 'NV', 'NV', 'NV', 'NV', 'NV', 'NV', 'NV', 'NV', 'NV', 'NV', 'NV', 'NV', 'NV', 'NV', 'NV', 'NV', 'NV', 'NV', 'NV', 'NV', 'NV', 'NV', 'NV', 'NV', 'NV', 'NV', 'NV', 'NV', 'NV', 'NV', 'NV', 'NV', 'NV', 'NV', 'NV', 'NV', 'NV', 'NV', 'NV', 'NV', 'MEL', 'NV', 'NV', 'NV', 'BKL', 'NV', 'NV', 'NV', 'MEL', 'SCC', 'DF', 'NV', 'NV', 'MEL', 'NV', 'NV', 'BKL', 'NV', 'MEL', 'NV', 'DF', 'BCC', 'MEL', 'NV', 'NV', 'NV', 'NV', 'NV', 'NV', 'NV', 'NV', 'NV', 'BKL', 'NV', 'NV', 'NV', 'NV', 'NV', 'NV', 'NV', 'BKL', 'NV', 'BKL', 'BCC', 'BCC', 'NV', 'NV', 'MEL', 'BKL', 'NV', 'NV', 'BKL', 'NV', 'NV', 'NV', 'NV', 'NV', 'VASC', 'NV', 'NV', 'BKL', 'NV', 'BKL', 'MEL', 'NV', 'NV', 'DF', 'NV', 'BCC', 'NV', 'NV', 'NV', 'VASC', 'NV', 'SCC', 'BKL', 'NV', 'NV', 'NV', 'NV', 'NV', 'NV', 'BKL', 'NV', 'BKL', 'NV', 'NV', 'BKL', 'NV', 'NV', 'DF', 'BCC', 'NV', 'NV', 'MEL', 'NV', 'NV', 'NV', 'NV', 'NV', 'SCC', 'NV', 'NV', 'BKL', 'NV', 'NV', 'NV', 'VASC', 'NV', 'NV', 'MEL', 'BCC', 'BKL', 'NV', 'NV', 'BCC', 'NV', 'BKL', 'NV', 'BKL', 'NV', 'BCC', 'BCC', 'NV', 'NV', 'BKL', 'NV', 'NV', 'NV', 'BCC', 'NV', 'BKL', 'NV', 'NV', 'NV', 'NV', 'NV', 'BCC', 'NV', 'BKL', 'BKL', 'NV', 'NV', 'AK', 'NV', 'VASC', 'AK', 'BCC', 'MEL', 'NV', 'MEL', 'BCC', 'NV', 'BCC', 'NV', 'NV', 'NV', 'NV', 'BCC']\n"
          ]
        }
      ]
    },
    {
      "cell_type": "code",
      "source": [
        "# Loading the dataset\n",
        "\n",
        "def load_dataset(label_file_path, images_file_path, partition_list=None):\n",
        "\n",
        "    x_train = list()\n",
        "    y_train = list()\n",
        "    n = 0 # Images number\n",
        "    total_bar = 255000 # Progressbar | Max values of iterations.\n",
        "\n",
        "    #bar = progressbar.ProgressBar(ax_value=progressbar.UnknownLength)\n",
        "    with tqdm(total=total_bar) as bar:\n",
        "        if partition_list != None:\n",
        "            for p in partition_list:\n",
        "                b = 0\n",
        "                folder = os.path.join(images_file_path, p)\n",
        "                print(f'* Folder: {folder}')\n",
        "                # Creating the x_train\n",
        "                for dirname, _, filenames in os.walk(folder):\n",
        "                    for filename in filenames:\n",
        "                        path = os.path.join(dirname, filename)\n",
        "                        with Image.open(path) as im:\n",
        "                            # Image to matrix\n",
        "                            im_data = np.array(im)\n",
        "                            x_train.append(im_data)\n",
        "                            n +=1\n",
        "                            #b +=1\n",
        "                            bar.update(10)\n",
        "                # Creating the y_train\n",
        "                y = y_train_build(label_file_path, images_file_path, p)\n",
        "                y_train.extend(y)\n",
        "\n",
        "                print(f' Loaded {n} pictures. Total dataset: x:{len(x_train)}, y:{len(y_train)}')\n",
        "\n",
        "    return(x_train, y_train)"
      ],
      "metadata": {
        "id": "-ReClNFe86Xb"
      },
      "execution_count": 80,
      "outputs": []
    },
    {
      "cell_type": "code",
      "source": [
        "y_train = list()\n",
        "y = ['NV', 'NV', 'MEL', 'BKL', 'NV', 'NV', 'MEL', 'NV', 'NV', 'BKL', 'BKL', 'BKL', 'BKL', 'BKL', 'BKL', 'BKL', 'NV', 'BKL', 'BKL']\n",
        "z = ['aa', 'bb', 'MEL', 'BKL', 'NV', 'NV', 'MEL', 'NV', 'NV', 'BKL', 'BKL', 'BKL', 'BKL', 'BKL', 'BKL', 'BKL', 'NV', 'BKL', 'BKL']\n",
        "y_train.extend(y)\n",
        "y_train.extend(z)\n",
        "y_train\n"
      ],
      "metadata": {
        "id": "66Jlt5umTeqA"
      },
      "execution_count": null,
      "outputs": []
    },
    {
      "cell_type": "code",
      "source": [
        "\n",
        "label_train_path = '/content/drive/MyDrive/Colab Notebooks/Master UOC/TFM/Dermatological lesion classification/Data/ISIC_2019_Training_GroundTruth.csv'\n",
        "train_path = '/content/drive/MyDrive/Colab Notebooks/Master UOC/TFM/Dermatological lesion classification/Data/Train'\n",
        "partition_list = ['P'+str(i) for i in range(0, 10)]\n",
        "#partition_list = ['P0']\n",
        "\n",
        "# Loading the train dataset\n",
        "print(' Loading pictures into dataset ')\n",
        "X_train, y_train = load_dataset(label_train_path, train_path, partition_list)\n",
        "print()\n",
        "print(f' Number of X: {len(X_train)}, Number of y: {len(y_train)}')\n",
        "print(f' Unique labels: {list(set(y_train))}')\n",
        "\n"
      ],
      "metadata": {
        "colab": {
          "base_uri": "https://localhost:8080/"
        },
        "id": "soHkjO-M7rHt",
        "outputId": "88fa5bd0-b3e4-481f-dd07-b943f8050b07"
      },
      "execution_count": null,
      "outputs": [
        {
          "output_type": "stream",
          "name": "stdout",
          "text": [
            " Loading pictures into dataset \n"
          ]
        },
        {
          "output_type": "stream",
          "name": "stderr",
          "text": [
            "  0%|          | 130/1000000 [00:00<12:50, 1297.85it/s]"
          ]
        },
        {
          "output_type": "stream",
          "name": "stdout",
          "text": [
            "* Folder: /content/drive/MyDrive/Colab Notebooks/Master UOC/TFM/Dermatological lesion classification/Data/Train/P0\n"
          ]
        },
        {
          "output_type": "stream",
          "name": "stderr",
          "text": [
            "  3%|▎         | 25210/1000000 [00:07<04:46, 3402.97it/s]"
          ]
        },
        {
          "output_type": "stream",
          "name": "stdout",
          "text": [
            "Picture number in partition P0: 2533 \n",
            " Loaded 2533 pictures. Total dataset: x:2533, y:2533\n",
            "* Folder: /content/drive/MyDrive/Colab Notebooks/Master UOC/TFM/Dermatological lesion classification/Data/Train/P1\n"
          ]
        },
        {
          "output_type": "stream",
          "name": "stderr",
          "text": [
            "  5%|▌         | 50650/1000000 [00:15<04:07, 3831.86it/s]"
          ]
        },
        {
          "output_type": "stream",
          "name": "stdout",
          "text": [
            "Picture number in partition P1: 2533 \n",
            " Loaded 5066 pictures. Total dataset: x:5066, y:5066\n",
            "* Folder: /content/drive/MyDrive/Colab Notebooks/Master UOC/TFM/Dermatological lesion classification/Data/Train/P2\n"
          ]
        },
        {
          "output_type": "stream",
          "name": "stderr",
          "text": [
            "  8%|▊         | 75940/1000000 [00:23<04:50, 3180.92it/s]"
          ]
        },
        {
          "output_type": "stream",
          "name": "stdout",
          "text": [
            "Picture number in partition P2: 2533 \n"
          ]
        },
        {
          "output_type": "stream",
          "name": "stderr",
          "text": [
            "\r  8%|▊         | 76260/1000000 [00:24<17:55, 858.90it/s] "
          ]
        },
        {
          "output_type": "stream",
          "name": "stdout",
          "text": [
            " Loaded 7599 pictures. Total dataset: x:7599, y:7599\n",
            "* Folder: /content/drive/MyDrive/Colab Notebooks/Master UOC/TFM/Dermatological lesion classification/Data/Train/P3\n"
          ]
        },
        {
          "output_type": "stream",
          "name": "stderr",
          "text": [
            " 10%|█         | 101200/1000000 [00:32<03:46, 3964.23it/s]"
          ]
        },
        {
          "output_type": "stream",
          "name": "stdout",
          "text": [
            "Picture number in partition P3: 2533 \n",
            " Loaded 10132 pictures. Total dataset: x:10132, y:10132\n",
            "* Folder: /content/drive/MyDrive/Colab Notebooks/Master UOC/TFM/Dermatological lesion classification/Data/Train/P4\n"
          ]
        },
        {
          "output_type": "stream",
          "name": "stderr",
          "text": [
            " 13%|█▎        | 126520/1000000 [00:48<08:38, 1683.36it/s]"
          ]
        },
        {
          "output_type": "stream",
          "name": "stdout",
          "text": [
            "Picture number in partition P4: 2533 \n",
            " Loaded 12665 pictures. Total dataset: x:12665, y:12665\n",
            "* Folder: /content/drive/MyDrive/Colab Notebooks/Master UOC/TFM/Dermatological lesion classification/Data/Train/P5\n"
          ]
        },
        {
          "output_type": "stream",
          "name": "stderr",
          "text": [
            " 15%|█▌        | 151870/1000000 [01:26<08:08, 1737.11it/s]"
          ]
        },
        {
          "output_type": "stream",
          "name": "stdout",
          "text": [
            "Picture number in partition P5: 2533 \n",
            " Loaded 15198 pictures. Total dataset: x:15198, y:15198\n",
            "* Folder: /content/drive/MyDrive/Colab Notebooks/Master UOC/TFM/Dermatological lesion classification/Data/Train/P6\n"
          ]
        },
        {
          "output_type": "stream",
          "name": "stderr",
          "text": [
            " 15%|█▌        | 152890/1000000 [01:43<1:50:31, 127.75it/s]"
          ]
        }
      ]
    },
    {
      "cell_type": "code",
      "source": [],
      "metadata": {
        "id": "S_t_yJga_Kht"
      },
      "execution_count": null,
      "outputs": []
    },
    {
      "cell_type": "code",
      "source": [],
      "metadata": {
        "id": "WPt1BjsyBChZ"
      },
      "execution_count": null,
      "outputs": []
    }
  ]
}
